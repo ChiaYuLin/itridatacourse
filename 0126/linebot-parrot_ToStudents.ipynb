{
 "cells": [
  {
   "cell_type": "code",
   "execution_count": null,
   "metadata": {},
   "outputs": [],
   "source": [
    "#linebotTest1\n",
    "from flask import Flask\n",
    "app = Flask(__name__)\n",
    "\n",
    "#import flask\n",
    "#XXXXXXX\n",
    "from linebot import  LineBotApi, WebhookHandler\n",
    "from linebot.exceptions import InvalidSignatureError\n",
    "from linebot.models import MessageEvent, TextMessage, TextSendMessage\n",
    "\n",
    "line_bot_api = LineBotApi('使用者Channel access token')\n",
    "handler = WebhookHandler('使月者Channel secret')\n",
    "\n",
    "@app.route(\"/callback\", methods=['POST'])\n",
    "def callback():\n",
    "    signature = request.headers['X-Line-Signature']\n",
    "    #獲得使用者輸入的訊息\n",
    "    #XXXXXXXXXXXX\n",
    "    try:\n",
    "        #送出訓席\n",
    "        #XXXXXXXXX\n",
    "    except InvalidSignatureError:\n",
    "        #送出Bad request (400)\n",
    "        #XXXXXXX\n",
    "    \n",
    "    #回覆OK\n",
    "    #XXXXXXX\n",
    "\n",
    "\n",
    "@handler.add(MessageEvent, message=TextMessage)\n",
    "#加入一個handle_message function\n",
    "#XXXXXX\n",
    "\n",
    "if __name__ == '__main__':\n",
    "    app.run()"
   ]
  }
 ],
 "metadata": {
  "kernelspec": {
   "display_name": "Python 3",
   "language": "python",
   "name": "python3"
  },
  "language_info": {
   "codemirror_mode": {
    "name": "ipython",
    "version": 3
   },
   "file_extension": ".py",
   "mimetype": "text/x-python",
   "name": "python",
   "nbconvert_exporter": "python",
   "pygments_lexer": "ipython3",
   "version": "3.8.3"
  }
 },
 "nbformat": 4,
 "nbformat_minor": 4
}
