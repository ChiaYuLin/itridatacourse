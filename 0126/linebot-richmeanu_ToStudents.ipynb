{
 "cells": [
  {
   "cell_type": "code",
   "execution_count": null,
   "metadata": {},
   "outputs": [],
   "source": [
    "from flask import Flask\n",
    "app = Flask(__name__)\n",
    "\n",
    "from flask import Flask, request, abort\n",
    "from linebot import  LineBotApi, WebhookHandler\n",
    "from linebot.exceptions import InvalidSignatureError\n",
    "from linebot.models import MessageEvent, TextMessage,TextSendMessage, ImageSendMessage, StickerSendMessage, LocationSendMessage, QuickReply, QuickReplyButton, MessageAction\n",
    "\n",
    "line_bot_api = LineBotApi('7GY1Zw0piswBjB4jXKMfxsxZhUtyEdw/ce9GOlXV4+4I13WlJW0Y+IcSleGHtTG4YhnVJ5Cjse5217uT9NTiwZl1N4/Q3pSPnm6SKvUP0Xlg1NTHp7nNU+snqRt9OX2WdIiJ8ySY+2mrv72LsKTJ7wdB04t89/1O/w1cDnyilFU=')\n",
    "handler = WebhookHandler('9da7060246fe0a274bfcff2840143194')\n",
    "\n",
    "@app.route(\"/callback\", methods=['POST'])\n",
    "def callback():\n",
    "    signature = request.headers['X-Line-Signature']\n",
    "    body = request.get_data(as_text=True)\n",
    "    try:\n",
    "        handler.handle(body, signature)\n",
    "    except InvalidSignatureError:\n",
    "        abort(400)\n",
    "    return 'OK'\n",
    "\n",
    "#加入一個message handler\n",
    "#XXXXXXXX\n",
    "@handler.add(MessageEvent, message=TextMessage)\n",
    "def handle_message(event):\n",
    "    mtext = event.message.text\n",
    "    #撰寫接受到的選項對應的動作\n",
    "    #XXXXXXXX\n",
    "\n",
    "if __name__ == '__main__':\n",
    "    app.run()\n"
   ]
  }
 ],
 "metadata": {
  "kernelspec": {
   "display_name": "Python 3",
   "language": "python",
   "name": "python3"
  },
  "language_info": {
   "codemirror_mode": {
    "name": "ipython",
    "version": 3
   },
   "file_extension": ".py",
   "mimetype": "text/x-python",
   "name": "python",
   "nbconvert_exporter": "python",
   "pygments_lexer": "ipython3",
   "version": "3.8.3"
  }
 },
 "nbformat": 4,
 "nbformat_minor": 4
}
