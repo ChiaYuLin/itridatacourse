{
 "cells": [
  {
   "cell_type": "code",
   "execution_count": 8,
   "metadata": {},
   "outputs": [],
   "source": [
    "#import mixer from pygame\n",
    "#initialize mixer\n"
   ]
  },
  {
   "cell_type": "code",
   "execution_count": null,
   "metadata": {},
   "outputs": [],
   "source": [
    "#插入音效"
   ]
  },
  {
   "cell_type": "code",
   "execution_count": 10,
   "metadata": {},
   "outputs": [],
   "source": [
    "#建立功能表，status為目前播放的檔案\n",
    "def menu(status):\n",
    "    os.system(\"cls\")\n",
    "    print(\"wav 播放器 {}\".format(status))\n",
    "    print(\"--------------------------------------\")\n",
    "    print(\"1.播  放\")\n",
    "    print(\"2.上一首\")\n",
    "    print(\"3.下一首\")\n",
    "    print(\"4.停止播放\")\n",
    "    print(\"0.結束程式\")\n",
    "    print(\"--------------------------------------\")\n",
    "    \n",
    "#播放音效檔一次，並顯示正在播放的檔名\n",
    "def playwav(song):\n",
    "    global status,sound\n",
    "    #輸入Sound\n",
    "    #XXXXXX\n",
    "    #設定播放次數\n",
    "    #XXXXXX\n",
    "    status=\"正在播放 {}\".format(song)            \n",
    "\n",
    "#停止目前的音效，重新載入音效播放\n",
    "def playNewwav(song):\n",
    "    global status,sound\n",
    "    #停止目前的音效\n",
    "    #XXXXXXX\n",
    "    #輸入Sound\n",
    "    #XXXXXX\n",
    "    #設定播放次數\n",
    "    #XXXXXX    \n",
    "    status=\"正在播放 {}\".format(song)  "
   ]
  },
  {
   "cell_type": "code",
   "execution_count": null,
   "metadata": {},
   "outputs": [],
   "source": [
    "### 主程式從這裡開始 ###\n",
    "    \n",
    "from pygame import mixer\n",
    "import glob,os\n",
    "mixer.init()\n",
    "\n",
    "#載入wav到音效中\n",
    "source_dir = \"wav/\"\n",
    "wavfiles = glob.glob(source_dir + \"*.wav\")\n",
    "index=0\n",
    "status=\"\"\n",
    "#建立Sound播放物件\n",
    "#XXXXXXX\n",
    "\n",
    "while True:\n",
    "    menu(status)\n",
    "    choice = int(input(\"請輸入您的選擇：\"))\n",
    "    #輸入不同選擇\n",
    "    #若為1，以自訂的playwav()播放音效檔\n",
    "    #若為2，以自訂的playNewwav()重新載入音效檔，並重新播放下一首音效，如果已到最後一首則重新回到第一首\n",
    "    #若為3，以自訂的playNewwav()重新載入音效檔，並重新播放上一首音效，如果已到第一首則重新回到最後一首\n",
    "\n",
    "#以stop()停止音效播放\n",
    "#XXXXXXXX  \n",
    "print(\"程式執行完畢！\")"
   ]
  }
 ],
 "metadata": {
  "kernelspec": {
   "display_name": "Python 3",
   "language": "python",
   "name": "python3"
  },
  "language_info": {
   "codemirror_mode": {
    "name": "ipython",
    "version": 3
   },
   "file_extension": ".py",
   "mimetype": "text/x-python",
   "name": "python",
   "nbconvert_exporter": "python",
   "pygments_lexer": "ipython3",
   "version": "3.8.3"
  }
 },
 "nbformat": 4,
 "nbformat_minor": 4
}
